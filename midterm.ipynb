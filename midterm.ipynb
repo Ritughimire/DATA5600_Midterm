{
 "cells": [
  {
   "cell_type": "markdown",
   "metadata": {},
   "source": [
    "### 1. (a) What is the probability of getting at least one cherry flavored Tootsie Roll in a single pull?\n",
    "   \n",
    "Here,\n",
    "  $$ slot windows = 5  \\\\ \n",
    "  outcomes = 5  \\\\\n",
    "  so, the\\, total\\, number\\, of\\, sample\\, space = 5^5 \\\\ \\\\ \n",
    "  $$\n",
    "  now, we have to find the probability of getting at least one cherry flavored Tootsie Roll in a single pull. \n",
    "  $$\n",
    "  P(at\\, least\\, one\\, cherry\\, flavored\\, Tootsie\\, Roll\\, in\\, a\\, single\\, pull)   = 1 - P(no\\,cherry\\, in\\,single\\, pull) \\\\\n",
    "  P(no\\, cherry\\, in\\, single\\, pull) = {(\\frac{4}{5})}^5 \\\\ \n",
    "  P(at least one cherry flavored Tootsie Roll in a single pull) = 1 - {(\\frac{4}{5})}^5 \\\\\n",
    "  P(at least one cherry flavored Tootsie Roll in a single pull) = 0.672 $$\n",
    "\n",
    "\n",
    "\n",
    "\n"
   ]
  },
  {
   "cell_type": "markdown",
   "metadata": {},
   "source": [
    "### 1. (b) What is the probability of getting at least one cherry flavored Tootsie Roll in five pulls?\n",
    "\n",
    "Here,\n",
    "  $$ slot windows = 5  \\\\ \n",
    "  outcomes = 5  \\\\ $$\n",
    "\n",
    "    However, we are doing 5 pulls. Hence, \n",
    "\n",
    "  $$\n",
    "  so, the\\, total\\, number\\, of\\, sample\\, space = (5^5)^5 = 5^{25} \\\\ \\\\ \n",
    "  $$\n",
    "  now, we have to find the probability of getting at least one cherry flavored Tootsie Roll in a single pull. \n",
    "  $$ \n",
    "  P(at\\, least\\, one\\, cherry\\, flavored\\, Tootsie\\, Roll\\, in\\, a\\, single\\, pull)   = 1 - P(no\\,cherry\\, in\\,single\\, pull) \\\\\n",
    "  P(no\\, cherry\\, in\\, single\\, pull) = {(\\frac{4}{5})}^25 \\\\ \n",
    "  P(at least one cherry flavored Tootsie Roll in a single pull) = 1 - {(\\frac{4}{5})}^25 \\\\\n",
    "  P(at least one cherry flavored Tootsie Roll in a single pull) = 0.9962 $$\n"
   ]
  },
  {
   "cell_type": "markdown",
   "metadata": {},
   "source": [
    "### 2. Show that $ \\bar x = \\frac 1 n \\sum_{i \\mathop = 1}^n x_i $ is an unbiased estimator. "
   ]
  },
  {
   "cell_type": "markdown",
   "metadata": {},
   "source": [
    "Let $X_1, X_2, \\ldots, X_n$ form a Random Samplefrom a population with Expectation mean $\\mu$ and Variance $\\sigma^2$. \n",
    "\n",
    "Then, \n",
    "$ \\bar X = \\frac 1 n \\sum_{i \\mathop = 1}^n X_i $ is an unbiased Estimator of $\\mu$. \n",
    "\n",
    "If $\\bar X$ is an unbiased estimator of $\\mu$, then:  \n",
    "$ E ( {\\bar X}) = \\mu $\n",
    "\n",
    "$$\n",
    "\\begin{aligned}\n",
    "\n",
    "  E (\\bar{X}) &=   E \\left(\\frac{1}{n} \\sum\\limits_{i=1}^{n} X_{i} \\right) \\\\\n",
    "              &=  \\left(\\frac{1}{n} \\sum\\limits_{i=1}^{n} E ( \\bar X_i ) \\right) \\\\\n",
    "              &= \\left(\\frac{1}{n} \\sum\\limits_{i=1}^{n} \\mu \\right)  \\\\\n",
    "              &= \\left(\\frac{n}{n} \\mu \\right) \\\\\n",
    "              &= \\mu\n",
    "              \n",
    "\\end{aligned}\n",
    "$$\n",
    "\n",
    "So, $\\bar X$ is an unbiased estimator.\n"
   ]
  },
  {
   "cell_type": "markdown",
   "metadata": {},
   "source": [
    "### 3. Show that the sample variance $ s^2 = \\frac 1 {n-1} \\sum_{i \\mathop = 1}^n (x_i - \\bar x)^2 $ is unbiased estimator"
   ]
  },
  {
   "cell_type": "markdown",
   "metadata": {},
   "source": [
    "Let $\\left\\{x_{1}, x_{1}, \\ldots, x_{n}\\right\\}$ denote a random sample\n",
    "from the population with\n",
    "\n",
    "-   $E(x) = \\mu$\n",
    "\n",
    "-   $Var(x) \\sigma^{2}$\n",
    "\n",
    "then\n",
    "\n",
    "<br>\n",
    "\n",
    "$$\n",
    "s^{2} = \\frac{1}{n-1}\\sum\\limits_{i=1}^{n} (x_{i} - \\bar{x})^{2}\n",
    "$$\n"
   ]
  },
  {
   "cell_type": "markdown",
   "metadata": {},
   "source": [
    "$ \\mathbb E\\left(\\sum (X_i - \\bar X)^2 \\right) = \\mathbb E\\left(\\sum X_{i}^2 - 2 \\bar X \\sum X_i + n \\bar X^2 \\right) = \\sum \\mathbb E(X_{i}^2) - \\mathbb E\\left(n \\bar X^2 \\right) $ \\\\ \n",
    "\n",
    "$ \\sum \\mathbb E(X_{i}^2) - \\mathbb E\\left(n \\bar X^2 \\right) = \\sum \\mathbb E(X_{i}^2) - n \\mathbb E\\left(\\bar X^2\\right) = n \\sigma^2 + n \\mu^2 - \\sigma^2 -n \\mu^2 $ \\ \n",
    "\n",
    "$\\mathbb E\\left(\\sum (X_i - \\bar X)^2 \\right) = (n-1)\\sigma^2$\\ \n",
    "\n",
    "$\\mathbb E(s^2)= \\mathbb E\\left(\\frac{\\sum (X_i - \\bar X)^2}{n-1}\\right) = \\frac{1}{n-1} \\mathbb E\\left(\\sum (X_i - \\bar X)^2 \\right)$ \\  \n",
    "$\\mathbb E(s^2) = \\frac {(n-1)\\sigma^2}{n-1} = \\sigma^2 $\n",
    "\n",
    "Hence, sample variance is an unbiased estimator.\n",
    "\n"
   ]
  },
  {
   "cell_type": "markdown",
   "metadata": {},
   "source": [
    "### 4. (5 points) Compare and contrast observational data to data that come from a controlled experiment?"
   ]
  },
  {
   "cell_type": "markdown",
   "metadata": {},
   "source": [
    "An observational study observes individuals and measures variables of interest but does not attempt to influence the responses. Observational data sets econometrics apart from statistics. We will view an economic variable as an outcome from a random process not under the control of the researcher. Observational data is important in many domains of research, particularly in studies of living organisms (both functional and behavioural), our planet, climate and the universe at large. Medical data is mostly from observations. Such data is associated with processes which cannot be repeated and are therefore not appropriate for experimentation.\n",
    "\n",
    "However, a controlled experiment is a process in which the experimenter or the researcher is able to influence the outcome of the experiment. This is the case for many biological and medical experiments. In the experimental data, researcher can deliberately control and menipulate the different scenatious and conditions to measure the response of those changes.\n"
   ]
  },
  {
   "cell_type": "markdown",
   "metadata": {},
   "source": [
    "### 5. (5 points) Provide a detailed definition and a concrete example for each of the following:\n",
    "\n",
    "- • **Data generating process** : data gathering procedure is the technique used to obtain the information used in a research to substantiate the claims made by a researcher. For example, gathering the housing price as the fed changes the interest rate. <br> <br>\n",
    "- • **experiment** : An **experiment** is a procedure that can (at least in theory) be\n",
    "infinitely repeated and has a well--defined set of outcomes. For exampple, providing a fixed guranteed income to a community and measuring the economic impact. <br> <br>\n",
    "- • **Random variable** : A **random variable** is a variable that takes on numerical values and\n",
    "has an outcome that is determined by an experiment. For example, the age of participent in a study<br> <br>\n",
    "- • **Bernoulli (or binary) random variable** : A random variable that only takes on values $0$ and $1$ is a\n",
    "**Bernoulli** (or **binary**) **random variable**. For example, answer of question 'hasCar?' in a study <br> <br>\n",
    "- • **Discrete random variable** : A discrete random variable is one that takes on only a finite (or\n",
    "countably infinite) number of values. A binary variable is the simplest\n",
    "case of a discrete random variable. The only quantity that we need to\n",
    "completely describe its behavior is the probability that $X = 1$. For example, number of people in an income bracket. <br> <br>\n",
    "- • **Probability density funciton (or mass function)** : Probability density function (PDF) is a statistical expression that defines a probability distribution (the likelihood of an outcome) for a discrete random variable (e.g., a stock or ETF) as opposed to a continuous random variable. For example, probablity of someone with credit score in a range of 500-600 , 600-700 etc.  <br> <br>\n",
    "- • **Cumulative distribution function** : a function whose value is the probability that a corresponding continuous random variable has a value less than or equal to the argument of the function. For example, For example, an income tax bracket <br> <br>\n"
   ]
  },
  {
   "cell_type": "markdown",
   "metadata": {},
   "source": [
    "### 6. (5 points) Define probability and list its properties."
   ]
  },
  {
   "cell_type": "markdown",
   "metadata": {},
   "source": [
    "Probability is a measure of the likelihood of an event to occur.  Many events cannot be predicted with total certainty. We can predict only the chance of an event to occur i.e. how likely they are to happen, using it. Probability can range in from 0 to 1, where 0 means the event to be an impossible one and 1 indicates a certain event. \n",
    "\n",
    "Mathematically, probability  of an event $ P(a) $ is defined as:  \n",
    "Probablity of an event a $ P(a) = \\frac {Number\\ of\\ events\\ a} {Total\\ number\\ of\\ events }$ \n",
    "\n",
    "\n",
    "The propreties of probability are:\n",
    "1. For any event A, $P(A) \\geq 0$\n",
    "2. Probability of the sample space $S$ is $P(S) = 1$\n",
    "3. If $ A1,A2,A3,⋯ $ are disjoint events, then $ P(A1∪A2∪A3⋯) = P(A1)+P(A2)+P(A3)+⋯$ \n"
   ]
  },
  {
   "cell_type": "markdown",
   "metadata": {},
   "source": [
    "### 7. (5 points) Suppose that you are a Data Analyst for Meta. Your boss has asked you to examine the effectiveness of a particular advertisement that is placed on the Facebook web page for certain end users.\n",
    "\n",
    "- Describe why from your perspective whether or not a given Facebook user will click on the advertisement is a random variable. What are the possible outcomes? What particular kind of random variable is it?\n",
    "    - A random variable is a variable that takes on numerical values and has an outcome that is determined by an experiment. In the case given that an ad is displayed to the user, we are observing if the chick happens. Here, the possible outcomes are the users who will click on the advertisement or not - which means the possibility is either 0 or 1. This is a **Bernoulli** or binary random variable. <br><br>\n",
    "\n",
    "- Describe why from your perspective the number of users that click on the adevertisement per hour is a random variable. Assume there are N (some large number) total Facebook users. What are the possible outcomes? What kind of random variable is it?\n",
    "    - Here, we assume that the ad is displayed to a lage number of users. To measure the effectiveness of the ad, we are observing the number of users who click on the ad per hour. Here, the possible outcomes are the number of users who click on the ad and it is determined by the experiment. This is a **Discrete** random variable."
   ]
  },
  {
   "cell_type": "markdown",
   "metadata": {},
   "source": [
    "### 8. 8. (5 points) Consider the free throw shooting example. Recall that the random variable X is a Bernoulli random variableindicating whether or not a player makes her first shot, and the random variable Y is a Bernoulli random variable indicating whether or not she makes the second shot. Assume that P(X = 1) = 0.8. Assume thejoint PDF is given by the following:\n",
    "- $f_{Y X}(1, 1) = 0.68$ , and $f_{Y X}(0, 1) = 0.12. $\n",
    "- $f_{Y X}(1, 0) = 0.14$ , and $f_{Y X}(0, 0) = 0.06.$"
   ]
  },
  {
   "cell_type": "markdown",
   "metadata": {},
   "source": [
    "### Given this information please calculate the following:\n",
    "-  $P(Y = 1|X = 1) = \\frac {P(Y = 1, X = 1)} {P (X=1)} = \\frac{0.68}{0.8} = 0.85 $              <br><br>\n",
    "-  $P(Y = 0|X = 1) = \\frac {P(Y = 0, X = 1)} {P (X=1)} = \\frac{0.12}{0.8} = 0.15 $              <br><br>\n",
    "-  $P(Y = 1|X = 0) = \\frac {P(Y = 1, X = 0)} {P (X=1)} = \\frac{0.14}{0.2} = 0.70 $              <br><br>\n",
    "-  $P(Y = 0|X = 0) = \\frac {P(Y = 0, X = 0)} {P (X=1)} = \\frac{0.06}{0.2} = 0.3  $              <br><br>    \n",
    "\n",
    "### Are these random variables independent?\n",
    "- #### No, The random variables are not independent. The probability of second shot being made is different for when the first shot is made or not. That implies that the random variable Y is dependent on the random variable X."
   ]
  },
  {
   "cell_type": "markdown",
   "metadata": {},
   "source": [
    "### 9. (5 points) Suppose $X1, X2,$ and $X3$ are the number of small, medium, and large pizzas sold during the day at a pizzeria in town. Suppose also that $ E(X1) = 25, E(X2) = 57,\\ and\\ E(X3) = 40$. In addtion, p1, p2, and p3 are the prices of small, medium and large pizzas, which for this pizzeria are $p1 = \\$5.50, p2 = \\$7.60,\\ and\\ p3 = \\$9.15$. We can define a new random variable revenue, $ Y = p1X1 + p2X2 + p3X3 $ . Knowing what you know, what is your best guess for revenue on a given day? (hint: What is the expected value of the random variable Y ?)."
   ]
  },
  {
   "cell_type": "markdown",
   "metadata": {},
   "source": [
    "Here,   \n",
    "$ Y = p1X1 + p2X2 + p3X3 $  \n",
    "$ Y = 5.5 \\times 25 + 7.6 \\times 57 + 9.15 \\times 40 $  \n",
    "$ Y = \\$936.7 $\n",
    "\n",
    "#### The best guess for revenue on a given day is \\$936.7"
   ]
  },
  {
   "cell_type": "markdown",
   "metadata": {},
   "source": [
    "### 10. (5 points) Consider the following experiment. You are given a jar containing 30 blue balls and 20 red balls. You are asked to sample with replacement (each time you draw a ball you put it back in the jar) 5 balls. The binomial random variable X is the number of red balls drawn out of 5."
   ]
  },
  {
   "cell_type": "markdown",
   "metadata": {},
   "source": [
    "\n",
    "### Please calculate the following:\n",
    "- P(X ≤ 1)  =   0.34                               <br><br>\n",
    "- P(X ≤ 4)  =   0.98                              <br><br>\n",
    "- P(1 ≤ X ≤ 4 ) = 0.91                                 <br><br>"
   ]
  },
  {
   "cell_type": "markdown",
   "metadata": {},
   "source": [
    "##### 11. (5 Points) The random variable with a geometric probability distribution is defined for an experiment that closely resembles the binomial experiment. This experiment also involves identical and independent trials, each of which can result in one of two outcomes: success or failure. The probability of success is θ. However, instead of the number of successess that occur in n trials, the geometric random variable Y is the number of the trial on which the first success occurs. Consequently, the experiment could end with the first trial if a success is observed on the very first trial, or it could go on indefinitely. The geometric PDF is given by $f(y; θ) = (1 − θ)^{y−1} \\cdot θ$ for $y = 1, 2, 3, ...$"
   ]
  },
  {
   "cell_type": "markdown",
   "metadata": {},
   "source": [
    "\n",
    "You are an engineer at a commercial airline. You are interested in the number of 1-hour intervals until an\n",
    "engine malfunction, Y . Suppose that the probability of engine malfunction during any 1-hour period is\n",
    "θ = 0.02. Find the probability that a given engine will survive 3 hours\n",
    "\n",
    "Here,\n",
    "The probability of engine malfunction during any 1-hour period is θ = 0.02.\n",
    "We know,\n",
    "\n",
    "$f(y; θ) = (1 − θ)^{y−1} \\times θ$\n",
    "\n",
    "The probability of engine malfunction during any 1-hour period  of y = 1, 2, 3, ... is\n",
    "for $y = 1,2\\ and\\ 3 $ \n",
    "\n",
    "$P(y \\leq 4; 0.02) = {(1 − 0.02)^{1−1} \\times 0.02} + {(1 − 0.02)^{2−1} \\times 0.02} + {(1 − 0.02)^{3−1} \\times 0.02} = 0.058808 $\n",
    "\n",
    "#### Hence, the probability that a given engine will survive 3 hours is $ 1 - 0.058808 = 0.941192 $"
   ]
  },
  {
   "cell_type": "markdown",
   "metadata": {},
   "source": [
    "### 12. 12. (5 points) Please define the following terms in detail and give a concrete example of each:\n",
    "- Statistical Inference: **Statistical inference** is the process of learning something about a\n",
    "        population given a sample from that population. Using the tools of\n",
    "        statistics we will seek to *infer* something about the population, given\n",
    "        only a sample. <br><br>\n",
    "\n",
    "\n",
    "- Random sampling : **Random sampling** is the process of taking a sample of a\n",
    "        population, and then using that sample to make inferences about the\n",
    "        population. \n",
    "        If $Y_{1}, Y_{2}, \\ldots Y_{n}$ are independent random variables with a\n",
    "        common PDF $f(y; \\theta)$ then\n",
    "        $\\left\\{Y_{1}, Y_{2}, \\ldots, Y_{n}\\right\\}$ is said to be a *random\n",
    "        sample* from $f(y, \\theta)$ (a random sample represented by\n",
    "        $f(y; \\theta)$). When $\\left\\{Y_{1}, Y_{2}, \\ldots, Y_{n}\\right\\}$ is a random sample\n",
    "        from $f(y, \\theta)$, we also say that the $Y_{i}$ are **independent and\n",
    "        identically distributed** (or iid) random variables from $f(y; \\theta)$.   <br><br>\n",
    "                    \n",
    "- Population: A **population** is a well defined group of subjects, such as\n",
    "individuals, firms, cities, etc.  For example, the populate of USU Business student.    <br><br>\n",
    "\n",
    "\n",
    "- Estimator: Given a random sample drawn from a population distribution that depends\n",
    "on an unknown parameter $\\theta$. An **estimator** of $\\theta$ is a rule\n",
    "that assigns each possible outcome of the sample a value of $\\theta$.\n",
    "The rule is specified before any sampling is carried out (regardless of\n",
    "the data collected).  For example, lets say we wanted to know the average height of student un USU Business schoolwith a population of 2000 students. \n",
    "You take a sample of 50 students, measure them and find that the mean height is 70 inches. That is the estimator for mean height.                           \n",
    "<br><br>\n",
    "\n",
    "\n",
    "- Unbiasedness: **Unbiasedness:** an estimator, $W$ of $\\theta$, is an unbiased\n",
    "estimator if $E(W) = \\theta$ for all possible values of $\\theta$. If the estimator neither overestimates nor underestimates the true value of $\\theta$, then it is said to be unbiased.  For example, in the above example, if the average height is exactly 70, than our estimator is unbiased.<br><br>                "
   ]
  },
  {
   "cell_type": "markdown",
   "metadata": {},
   "source": [
    "## 13. (5 Points) Please use the table below to answer the following questions:\n",
    "\n",
    "| Observation | $y_i$ |\n",
    "-----------|------\n",
    "| 1 | 3.5 |\n",
    "| 2 | 4.1 |\n",
    "| 3 | 8.3 |\n",
    "| 4 | 2.6 |\n",
    "| 5 | 3.5 |\n",
    "\n"
   ]
  },
  {
   "cell_type": "markdown",
   "metadata": {},
   "source": [
    "- #### What is the sample average? Please calculate by hand and then confirm with Python.\n",
    "    - Here,\n",
    "    $ sum(y_i) = 3.5 + 4.1 + 8.3 + 2.6 + 3.5 = 22 $  \n",
    "    $ n = 5 $  \n",
    "    $ sample average = 22 / 5 = 4.4 $  \n",
    "\n",
    "- #### What is the sample variance? Please calculate by hand and then confirm with Python.\n",
    "    - Here,\n",
    "\n",
    "    $ mean = 4.4$  \n",
    "    $ sample\\ variance = \\frac {\\sum(mean - y_i)^2}{N-1} = \\frac {(3.5 - 4.4)^2 + (4.1 - 4.4)^2 + (8.3 - 4.4)^2 + (2.6 - 4.4)^2 + (3.5 - 4.4)^2} {5-1} = 5.04 $\n",
    "\n"
   ]
  },
  {
   "cell_type": "markdown",
   "metadata": {},
   "source": [
    "#### Next, using python:"
   ]
  },
  {
   "cell_type": "code",
   "execution_count": 1,
   "metadata": {},
   "outputs": [
    {
     "name": "stdout",
     "output_type": "stream",
     "text": [
      "The sample mean is 4.4\n",
      "The unbiased sample variance is 5.04\n"
     ]
    },
    {
     "data": {
      "text/plain": [
       "' Please note that, numpy by default used ddof=0 for calculating the variance. i.e. The sample variance (unbiased) is calculated by dividing \\n    the sum of the squared deviations from the mean by N-1.\\n    However, if you want to calculate the population variance, you can use ddof=0.'"
      ]
     },
     "execution_count": 1,
     "metadata": {},
     "output_type": "execute_result"
    }
   ],
   "source": [
    "import numpy as np\n",
    "yi = np.array([3.5, 4.1, 8.3, 2.6, 3.5])\n",
    "print(f'The sample mean is {np.mean(yi)}')\n",
    "\n",
    "print(f'The unbiased sample variance is {round(np.var(yi, ddof=1), 2)}')\n",
    "\n",
    "''' Please note that, numpy by default used ddof=0 for calculating the variance. i.e. The sample variance (unbiased) is calculated by dividing \n",
    "    the sum of the squared deviations from the mean by N-1.\n",
    "    However, if you want to calculate the population variance, you can use ddof=0.'''"
   ]
  },
  {
   "cell_type": "markdown",
   "metadata": {},
   "source": [
    "### 14. (5 points) Please answer the following:"
   ]
  },
  {
   "cell_type": "markdown",
   "metadata": {},
   "source": [
    "- For a given random variable X with $ E(X) = \\mu$, why is $(X − \\mu^2)$ an intuitive measure of distance from µ?\n",
    "    - **Answer:** $\\mu$ is the mean of a distribution. To measure the distance of a random variable from $\\mu$, we can use the formula, the sign is irrelevant. That is, if doesn't matter if we use positive or negative values, we are measuring the distance from $\\mu$. Hence, squared distance from $\\mu$ is a proxy for distance from $\\mu$, **but it also removes the sign.** <br><br>\n",
    "\n",
    "    -  In what sense is the sample variance an average measure of distance? (Hint: define a new variable, say $w_i = (x_i − \\bar x)^2$ and plug it into the formula for sample variance).\n",
    "\n",
    "        -  **Answer (Assuming unbiased smaple variance):** <br><br>  \n",
    "        Lets assume, \n",
    "        $w_i = (x_i − \\bar x)^2$\n",
    "\n",
    "        we know that unbiased sample variance is $ sample\\ variance = \\frac {\\sum(\\bar x - y_i)^2}{N-1} $\n",
    "\n",
    "        Since $(\\bar x - x_i) = ( x_i - \\bar x)^2$,\n",
    "\n",
    "        Substituitng, we get,\n",
    "        $ sample\\ variance = \\frac {\\sum w_i}{N-1} $\n",
    "\n",
    "        So, the sample variance is an average measure of distance from $\\bar x$. The only difference is that we are dividing by N-1 instead of N here because we are using unbiased sample variance. We can substitute N-1 with N, which gives a population variance."
   ]
  },
  {
   "cell_type": "markdown",
   "metadata": {},
   "source": [
    "### 15. (5 points) Consider the sample average\"\n",
    "$\\bar X = \\frac {1}{N} \\sum X_i$\n",
    "\n",
    "#### Please show that $\\bar X$ is an unbiased estimator\n",
    "\n",
    "--------------------------\n",
    "\n",
    "Let $X_1, X_2, \\ldots, X_n$ form a Random Samplefrom a population with Expectation mean $\\mu$ and Variance $\\sigma^2$. \n",
    "\n",
    "Then, \n",
    "$ \\bar X = \\frac 1 n \\sum_{i \\mathop = 1}^n X_i $ is an unbiased Estimator of $\\mu$. \n",
    "\n",
    "If $\\bar X$ is an unbiased estimator of $\\mu$, then:  \n",
    "$ E ( {\\bar X}) = \\mu $\n",
    "\n",
    "$$\n",
    "\\begin{aligned}\n",
    "\n",
    "  E (\\bar{X}) &=   E \\left(\\frac{1}{n} \\sum\\limits_{i=1}^{n} X_{i} \\right) \\\\\n",
    "              &=  \\left(\\frac{1}{n} \\sum\\limits_{i=1}^{n} E ( \\bar X_i ) \\right) \\\\\n",
    "              &= \\left(\\frac{1}{n} \\sum\\limits_{i=1}^{n} \\mu \\right)  \\\\\n",
    "              &= \\left(\\frac{n}{n} \\mu \\right) \\\\\n",
    "              &= \\mu\n",
    "              \n",
    "\\end{aligned}\n",
    "$$\n",
    "\n",
    "So, $\\bar X$ is an unbiased estimator."
   ]
  },
  {
   "cell_type": "markdown",
   "metadata": {},
   "source": [
    "#### Please derive the variance of $\\bar X$"
   ]
  },
  {
   "cell_type": "markdown",
   "metadata": {},
   "source": [
    "$$\n",
    "\\begin{align}\n",
    "  \\mathrm{var}(\\bar{X}) &= \\mathrm{var}\\Bigl(\\dfrac{X_1 + X_2 + \\dots + X_n}{n}\\Bigr) \\\\\\\\\n",
    "  &= \\Bigl(\\dfrac{1}{n}\\Bigr)^2\\, \\mathrm{var}(X_1 + X_2 + \\dots + X_n) \\\\\\\\\n",
    "  &= \\Bigl(\\dfrac{1}{n}\\Bigr)^2\\, \\bigl(\\sigma^2 + \\sigma^2 + \\dots + \\sigma^2\\bigr) \\qquad\\qquad (\\text{since the } X_i\\text{'s are independent}) \\\\\\\\\n",
    "  &= \\Bigl(\\dfrac{1}{n}\\Bigr)^2\\, n\\sigma^2 \\\\\\\\\n",
    "  &= \\dfrac{\\sigma^2}{n}. \n",
    "  \\end{align}\n",
    "$$"
   ]
  },
  {
   "cell_type": "markdown",
   "metadata": {},
   "source": [
    "### 16. (5 points) Consider the following two estimators of the population mean, $\\mu$\n",
    "\n",
    "- $W_1 = \\frac{1}{n} \\sum Y_1$\n",
    "- $W_2 = Y_n$. For a given random sample, ${Y1, Y2, . . . , Yn}, W2 $ keeps only Yn (the last observation) and\n",
    "discards the others. Then it uses the single observation Yn as an estimator for $\\mu$.\n",
    "\n"
   ]
  },
  {
   "cell_type": "markdown",
   "metadata": {},
   "source": [
    "#### - Are both estimators unbiased?\n",
    "\n",
    "-    No, the second estimator $W_2$ is not unbiased.\n",
    "\n",
    "#### - Demonstrate that we prefer the estimator $W1$ to $W2$ on the grounds of $relative\\ efficiency$. \n",
    "-   If $W_{1}$ and $W_{2}$ are two unbiased estimators of $\\theta$, $W_{1}$ is efficient relative to $W_{2}$ when $Var(W_{1}) \\le Var(W_{2})$ for all $\\theta$.In the above example, the variance of $W_{1}$ Will be less than the variance of $W_{2}$, so $W_{1}$ is efficient relative to $W_{2}$."
   ]
  },
  {
   "cell_type": "code",
   "execution_count": 2,
   "metadata": {},
   "outputs": [
    {
     "data": {
      "text/html": [
       "<div>\n",
       "<style scoped>\n",
       "    .dataframe tbody tr th:only-of-type {\n",
       "        vertical-align: middle;\n",
       "    }\n",
       "\n",
       "    .dataframe tbody tr th {\n",
       "        vertical-align: top;\n",
       "    }\n",
       "\n",
       "    .dataframe thead th {\n",
       "        text-align: right;\n",
       "    }\n",
       "</style>\n",
       "<table border=\"1\" class=\"dataframe\">\n",
       "  <thead>\n",
       "    <tr style=\"text-align: right;\">\n",
       "      <th></th>\n",
       "      <th>Ybar</th>\n",
       "      <th>Yn</th>\n",
       "      <th>MSEYbar</th>\n",
       "      <th>MSEYn</th>\n",
       "    </tr>\n",
       "  </thead>\n",
       "  <tbody>\n",
       "    <tr>\n",
       "      <th>0</th>\n",
       "      <td>-2.371428</td>\n",
       "      <td>14.527537</td>\n",
       "      <td>16.559237</td>\n",
       "      <td>451.104348</td>\n",
       "    </tr>\n",
       "    <tr>\n",
       "      <th>1</th>\n",
       "      <td>2.577037</td>\n",
       "      <td>-2.904205</td>\n",
       "      <td>16.559237</td>\n",
       "      <td>451.104348</td>\n",
       "    </tr>\n",
       "    <tr>\n",
       "      <th>2</th>\n",
       "      <td>-2.711819</td>\n",
       "      <td>-33.097477</td>\n",
       "      <td>16.559237</td>\n",
       "      <td>451.104348</td>\n",
       "    </tr>\n",
       "    <tr>\n",
       "      <th>3</th>\n",
       "      <td>-2.046442</td>\n",
       "      <td>0.498519</td>\n",
       "      <td>16.559237</td>\n",
       "      <td>451.104348</td>\n",
       "    </tr>\n",
       "    <tr>\n",
       "      <th>4</th>\n",
       "      <td>3.858578</td>\n",
       "      <td>-23.987331</td>\n",
       "      <td>16.559237</td>\n",
       "      <td>451.104348</td>\n",
       "    </tr>\n",
       "  </tbody>\n",
       "</table>\n",
       "</div>"
      ],
      "text/plain": [
       "       Ybar         Yn    MSEYbar       MSEYn\n",
       "0 -2.371428  14.527537  16.559237  451.104348\n",
       "1  2.577037  -2.904205  16.559237  451.104348\n",
       "2 -2.711819 -33.097477  16.559237  451.104348\n",
       "3 -2.046442   0.498519  16.559237  451.104348\n",
       "4  3.858578 -23.987331  16.559237  451.104348"
      ]
     },
     "execution_count": 2,
     "metadata": {},
     "output_type": "execute_result"
    }
   ],
   "source": [
    "M = 10_000\n",
    "N = 100\n",
    "μ = 0\n",
    "σ = 21\n",
    "\n",
    "Ybar = np.zeros(M)\n",
    "Yn = np.zeros(M)\n",
    "\n",
    "for i in range(M):\n",
    "    data = np.random.normal(loc=μ, scale=σ, size=N)\n",
    "    Ybar[i] = np.mean(data)    # sample mean\n",
    "    Yn[i] = data[-1] # last element\n",
    "    mseYbar = np.mean((Ybar - np.mean(data))**2)\n",
    "    mseYn = np.mean((Yn - np.mean(data))**2)\n",
    "(Ybar.mean(), Ybar.std(ddof=1))\n",
    "import pandas as pd\n",
    "df = pd.DataFrame({'Ybar': Ybar, 'Yn': Yn, 'MSEYbar': mseYbar, 'MSEYn': mseYn})\n",
    "df.head()\n",
    "\n"
   ]
  },
  {
   "cell_type": "code",
   "execution_count": 3,
   "metadata": {},
   "outputs": [
    {
     "data": {
      "text/plain": [
       "<AxesSubplot:ylabel='Density'>"
      ]
     },
     "execution_count": 3,
     "metadata": {},
     "output_type": "execute_result"
    },
    {
     "data": {
      "image/png": "[encoded data removed]",
      "text/plain": [
       "<Figure size 432x288 with 1 Axes>"
      ]
     },
     "metadata": {
      "needs_background": "light"
     },
     "output_type": "display_data"
    }
   ],
   "source": [
    "df[['Ybar', 'Yn']].plot.kde()"
   ]
  },
  {
   "cell_type": "markdown",
   "metadata": {},
   "source": [
    "Here, we can see using the graph that the variance of $W_{1}$ is less than the variance of $W_{2}$."
   ]
  },
  {
   "cell_type": "markdown",
   "metadata": {},
   "source": [
    "- #### What constitutes a meaningful comparison between the two?\n",
    "\n",
    "    - **Answer:** We can use something like Mean Squared Error (MSE) to measure the difference between the two estimators. <br><br>\n",
    "\n",
    "- #### Discuss in detail the way in which probability theory is used to determine a quality estimator.\n",
    "    - **Answer:** The whole point of using an estimator is to get a closest representation of the data point i.e. minimize the variance or the distance from the estimator. Uisng the mean squared error, it gives an average error from the estimated value.                           <br><br>\n",
    "- #### How does this constitute a “probability data model”?\n",
    "    A probability model is a mathematical representation of a random phenomenon. It is a mathematical model of the probability of a random event occurring. Measuring a central tendency, we try to estimate the most representative data points which can estimate the characterstics of the whole distribution <br><br>"
   ]
  },
  {
   "cell_type": "markdown",
   "metadata": {},
   "source": [
    "### 17. (5 points) A vice-president in charge of sales for a large corporation claims that salespeople are averaging no more than fifteen sales contracts per week. Of course, he would like to increase this figure. As a check on his claim, n = 36 salespeople are selected at random, and the number of contracts made by each is recorded for a single randomly selected week. The sample mean and variance of the 36 measurements were 17 and 9, respectively."
   ]
  },
  {
   "cell_type": "markdown",
   "metadata": {},
   "source": [
    "- #### Calculate a 90% confidence interval for the mean.\n",
    "\n",
    "We know,\n",
    "\n",
    "$ P ( -1.645 \\le \\frac{\\bar Y - \\mu}{1/\\sqrt{n}} \\le 1.645 ) = 0.9 $\n",
    "\n",
    "That is, the 90% confidence interval is $ [\\bar Y - \\frac{1.645 } {\\sqrt{ n / variance }}$,  $ \\bar Y + \\frac{1.645} {\\sqrt{ n /  variance }} ]$\n",
    "\n",
    "90% confidence interval $ = [16.18, 17.78] $"
   ]
  },
  {
   "cell_type": "markdown",
   "metadata": {},
   "source": [
    "- #### Calculate a 95% confidence interval for the mean.\n",
    "\n",
    "We know,\n",
    "\n",
    "$ P ( -1.960 \\le \\frac{\\bar Y - \\mu}{1/\\sqrt{n}} \\le 1.960) = 0.95 $\n",
    "\n",
    "That is, the 95% confidence interval is $ [\\bar Y - \\frac{1.960 } {\\sqrt{ n / variance }}$,  $ \\bar Y + \\frac{1.960} {\\sqrt{ n /  variance }} ]$\n",
    "\n",
    "95% confidence interval $ = [16.02, 17.98] $"
   ]
  },
  {
   "cell_type": "markdown",
   "metadata": {},
   "source": [
    "#### Test the vice-president’s hypothesis.\n",
    "-  First state the null hypothesis:\n",
    "    - **The null hypothesis is that the mean of sales contracts is less than or equal to 15.** <br><br>\n",
    "-  Then state the alternative hypothesis.\n",
    "    - **The alternative hypothesis is that the mean of sales contracts is greater than 15.** <br><br>\n",
    "-  Use both the t and standard normal distributions at levels 0.01, 0.05, and 0.10. Make a small table to report your results.\n",
    "    level | t-statistic | t-dist interval |\n",
    "    ------|-------------|-----------|\n",
    "    0.01  |  -1.645     |  [15.72 , 18.28] |\n",
    "    0.05  |  -1.960     |  [16.02 , 17.98] |\n",
    "    0.10  |  -2.576     |  [16.18 , 17.82] |\n",
    "\n",
    "    **See python code below used for calculation**\n",
    "\n",
    "\n",
    "-  What is your conclusion? Does it matter which distribution you use?\n",
    "    - **Answer** We can see that the manager's hypothesis is NOT true. The 99% confidence interval is greater than 15."
   ]
  },
  {
   "cell_type": "code",
   "execution_count": 4,
   "metadata": {},
   "outputs": [
    {
     "name": "stdout",
     "output_type": "stream",
     "text": [
      "For level : 0.01 The interval is : 15.72 , 18.28\n",
      "For level : 0.05 The interval is : 16.02 , 17.98\n",
      "For level : 0.1 The interval is : 16.18 , 17.82\n"
     ]
    }
   ],
   "source": [
    "mean = 17\n",
    "var = 9\n",
    "n = 36\n",
    "t_range = [0.01, 0.05, 0.1]\n",
    "t_table = [2.567, 1.960, 1.645]\n",
    "# std_table = \n",
    "for zscore, lvl in zip(t_table, t_range):\n",
    "    print(f'For level : {lvl} The interval is : {round(mean - zscore/ np.sqrt(n/var), 2)} , {round(mean + zscore/ np.sqrt(n/var), 2)}')"
   ]
  },
  {
   "cell_type": "code",
   "execution_count": 5,
   "metadata": {},
   "outputs": [
    {
     "name": "stdout",
     "output_type": "stream",
     "text": [
      "The interval is : 15.95 , 18.03\n"
     ]
    }
   ],
   "source": [
    "# Write a Monte Carlo simulation to demonstrate this in Python\n",
    "import numpy as np\n",
    "import scipy.stats as st\n",
    "M = 10_000\n",
    "N = 500\n",
    "μ = 17\n",
    "σ = 9\n",
    "\n",
    "Ybar = np.zeros(M)\n",
    "Yn = np.zeros(M)\n",
    "\n",
    "intervals_low = []\n",
    "intervals_high = []\n",
    "for i in range(M):\n",
    "    data = np.random.normal(loc=μ, scale=σ, size=N)\n",
    "    interval = st.t.interval(alpha=0.99, df=len(data)-1, loc=np.mean(data), scale=st.sem(data)) \n",
    "    intervals_low.append(interval[0])\n",
    "    intervals_high.append(interval[1])\n",
    "print(f'The interval is : {round(np.mean(intervals_low), 2)} , {round(np.mean(intervals_high), 2)}')"
   ]
  },
  {
   "cell_type": "markdown",
   "metadata": {},
   "source": [
    "#### Here, we can see that even with 99% confidence, the null hypothesis is not true."
   ]
  },
  {
   "cell_type": "markdown",
   "metadata": {},
   "source": [
    "### 18. (5 Points) \n",
    "- Please define the term ***confidence interval***. \n",
    "    - A **Confidence Interval** is a range of values, calculated from the sample observations,\n",
    "    that are believed, with a particular probability, to contain the true parameter value.  <br><br>\n",
    "\n",
    "- Where and when do concepts from probability theory apply to confidence intervals?\n",
    "    - In confidence interval, the confidence is the probablity of the measured observation being in that range.  <br><br>\n",
    "\n",
    "- Interpret the word confidence in the phrase confidence interval. Why do we say confidence interval instead of probability interval?\n",
    "    - The word confidence us used as in the way that it is the measure of our confidence in that the true value is in that range. We use confience as it is used to quanify the confidence in that measure <br><br>\n",
    "- Compare and contrast a frequentist confidence interval with a Bayesian highest density interval. Under what conditions will they agree?\n",
    "    - Bayesian intervals treat their bounds as fixed and the estimated parameter as a random variable, whereas frequentist confidence intervals treat their bounds as random variables and the parameter as a fixed value. Bayesian credible intervals use (and indeed, require) knowledge of the situation-specific prior distribution, while the frequentist confidence intervals do not."
   ]
  },
  {
   "cell_type": "markdown",
   "metadata": {},
   "source": [
    "### 19. 19. (5 points) Program a Monte Carlo simulation in Python to compare and contrast the concepts of frequentist confidence intervals and Bayesian highest density intervals for the mean of a random variable from a Poisson distribution.\n",
    "\n"
   ]
  },
  {
   "cell_type": "code",
   "execution_count": 6,
   "metadata": {},
   "outputs": [],
   "source": [
    "# theta = 5.0\n",
    "import scipy.stats as stats\n",
    "import matplotlib.pyplot as plt\n",
    "\n",
    "M = 100\n",
    "N = 100\n",
    "x = np.random.poisson(lam = M, size=N)\n",
    "\n",
    "def plot_beta_prior(a=1, b=1):\n",
    "    x = np.linspace(0, 1, 1000)\n",
    "    y = stats.beta.pdf(x, a, b)\n",
    "    plt.plot(x, y, lw = 2.0, color='darkblue', alpha=0.8)\n",
    "    plt.fill_between(x, y, facecolor='orange', alpha=0.5)\n",
    "    plt.title(f\"Beta({a},{b}) Prior Distribution\")\n",
    "    plt.show()"
   ]
  },
  {
   "cell_type": "code",
   "execution_count": 7,
   "metadata": {},
   "outputs": [
    {
     "data": {
      "image/png": "[encoded data removed]",
      "text/plain": [
       "<Figure size 432x288 with 1 Axes>"
      ]
     },
     "metadata": {
      "needs_background": "light"
     },
     "output_type": "display_data"
    }
   ],
   "source": [
    "## Let's form the Bayesian prior (i.e. state the prior hyperparameters)\n",
    "α = 4.0\n",
    "β = 2.0\n",
    "\n",
    "plot_beta_prior(a=α, b=β)"
   ]
  },
  {
   "cell_type": "code",
   "execution_count": 8,
   "metadata": {},
   "outputs": [
    {
     "data": {
      "text/plain": [
       "102.06"
      ]
     },
     "execution_count": 8,
     "metadata": {},
     "output_type": "execute_result"
    }
   ],
   "source": [
    "## Let's use Bayes' Rule to update her beliefs after seeing the data\n",
    "\n",
    "## NB: this is implicit in the beta-binom conjugate model\n",
    "N1 = np.mean(x)\n",
    "N0 = N - np.mean(x)\n",
    "## Calculate the posterior hyperparameters\n",
    "a_post = α + N1\n",
    "b_post = β + N0\n",
    "a_post"
   ]
  },
  {
   "cell_type": "code",
   "execution_count": 9,
   "metadata": {},
   "outputs": [
    {
     "data": {
      "image/png": "[encoded data removed]",
      "text/plain": [
       "<Figure size 432x288 with 1 Axes>"
      ]
     },
     "metadata": {
      "needs_background": "light"
     },
     "output_type": "display_data"
    }
   ],
   "source": [
    "plot_beta_prior(a=a_post, b=b_post)"
   ]
  },
  {
   "cell_type": "code",
   "execution_count": 10,
   "metadata": {},
   "outputs": [
    {
     "data": {
      "text/plain": [
       "(0.9286004675036075, 0.9872191737669397)"
      ]
     },
     "execution_count": 10,
     "metadata": {},
     "output_type": "execute_result"
    }
   ],
   "source": [
    "a = 0.10\n",
    "lb = stats.beta(a_post, b_post).ppf(a/2.0)\n",
    "ub = stats.beta(a_post, b_post).ppf(1.0 - a/2.0)\n",
    "(lb, ub)"
   ]
  },
  {
   "cell_type": "code",
   "execution_count": 11,
   "metadata": {},
   "outputs": [
    {
     "data": {
      "text/plain": [
       "(0.9286004675036075, 0.9872191737669397)"
      ]
     },
     "execution_count": 11,
     "metadata": {},
     "output_type": "execute_result"
    }
   ],
   "source": [
    "## The frequentist confidence coefficient\n",
    "a = 0.10\n",
    "## Calculate a Bayesian 90% Credibility Interval\n",
    "lb = stats.beta(a_post, b_post).ppf(a/2.0)\n",
    "ub = stats.beta(a_post, b_post).ppf(1.0 - a/2.0)\n",
    "(lb, ub)"
   ]
  },
  {
   "cell_type": "code",
   "execution_count": 12,
   "metadata": {},
   "outputs": [
    {
     "data": {
      "text/plain": [
       "(-0.5175397146207609, 2.4432000919792514)"
      ]
     },
     "execution_count": 12,
     "metadata": {},
     "output_type": "execute_result"
    }
   ],
   "source": [
    "xbar = stats.beta(a_post, b_post).mean()\n",
    "s = np.std(x, ddof=1)\n",
    "se = s / np.sqrt(N)\n",
    "tc = stats.t(N-1).ppf(1.0 - a/2.0)\n",
    "ci_lb = xbar - tc * se\n",
    "ci_ub = xbar + tc * se\n",
    "\n",
    "# Get a tuple that represents the CI\n",
    "(ci_lb, ci_ub)"
   ]
  },
  {
   "cell_type": "markdown",
   "metadata": {},
   "source": [
    "#### Our probability statement: \"Having seen the data, we believe there is a 90% probabiliy that the true theta is between 0.9526 and 0.99580 \""
   ]
  },
  {
   "cell_type": "markdown",
   "metadata": {},
   "source": [
    "### 20. (5 points) Redo problem 17 above with a bootstrap routine. Since we do not have the original data, assume some population parameters values and simulate n = 36 observations from that data generating mechanism.\n",
    "- Start with x ∼ N(17, 9) as assumed above.\n",
    "- choose other values of $\\mu$ and $\\sigma^2$ for which your tests will result in a rejection of the null hypothesis.\n",
    "\n",
    "- Can you make it so that you will reject for α = 0.05, but not for α = 0.10.\n",
    "- Can can you figure out how to select population parameter values that will yield results as desired?\n",
    "- Hint: you may have to tune the value of np.random.seed"
   ]
  },
  {
   "cell_type": "code",
   "execution_count": 56,
   "metadata": {},
   "outputs": [
    {
     "data": {
      "text/plain": [
       "(14.024000000000001, 15.18)"
      ]
     },
     "execution_count": 56,
     "metadata": {},
     "output_type": "execute_result"
    }
   ],
   "source": [
    "xbar = 15\n",
    "size = 2000\n",
    "n = 36\n",
    "sigma = 9\n",
    "α = 0.05 \n",
    "\n",
    "x = np.random.normal(xbar, np.sqrt(sigma), size).astype(int)\n",
    "sampled = np.random.choice(x, replace=True, size=n)\n",
    "x̄ = np.mean(x)\n",
    "\n",
    "\n",
    "## Decide how many bootstrap repititions\n",
    "B = 10_000\n",
    "\n",
    "## Store the bootstrapped mean\n",
    "x̄_b = np.zeros(B)\n",
    "\n",
    "## Run the bootstrap loop\n",
    "for b in range(B):\n",
    "    xb = np.random.choice(x, replace=True, size=N)\n",
    "    x̄_b[b] = np.mean(xb)\n",
    "## Standardize the bootstrapped data\n",
    "y = (x̄_b - x̄) / np.std(x̄_b, ddof=1)\n",
    "y.mean(), y.std(ddof=1)\n",
    "y.sort()\n",
    "\n",
    "## Get the bootstrap critical value using the Inverse ECDF\n",
    "q = 1.0 - α / 2.0\n",
    "jj = int(q * B)\n",
    "b_crit = y[jj]\n",
    "se_b = x̄_b.std(ddof=1)\n",
    "\n",
    "## Calculate the bootstrapped Confidence Interval\n",
    "ci_b = (x̄ - b_crit * se_b, x̄ + b_crit * se_b)\n",
    "ci_b"
   ]
  },
  {
   "cell_type": "code",
   "execution_count": 57,
   "metadata": {},
   "outputs": [
    {
     "data": {
      "text/plain": [
       "(13.939333333333334, 14.93)"
      ]
     },
     "execution_count": 57,
     "metadata": {},
     "output_type": "execute_result"
    }
   ],
   "source": [
    "## Calculate the bootstrapped 90% Credibility Interval\n",
    "xbar = 15\n",
    "size = 3000\n",
    "n = 36\n",
    "sigma = 9\n",
    "α = 0.1 \n",
    "\n",
    "x = np.random.normal(xbar, np.sqrt(sigma), size).astype(int)\n",
    "sampled = np.random.choice(x, replace=True, size=n)\n",
    "x̄ = np.mean(x)\n",
    "\n",
    "\n",
    "## Decide how many bootstrap repititions\n",
    "B = 10_000\n",
    "\n",
    "## Store the bootstrapped mean\n",
    "x̄_b = np.zeros(B)\n",
    "\n",
    "## Run the bootstrap loop\n",
    "for b in range(B):\n",
    "    xb = np.random.choice(x, replace=True, size=N)\n",
    "    x̄_b[b] = np.mean(xb)\n",
    "## Standardize the bootstrapped data\n",
    "y = (x̄_b - x̄) / np.std(x̄_b, ddof=1)\n",
    "y.mean(), y.std(ddof=1)\n",
    "y.sort()\n",
    "\n",
    "## Get the bootstrap critical value using the Inverse ECDF\n",
    "q = 1.0 - α / 2.0\n",
    "jj = int(q * B)\n",
    "b_crit = y[jj]\n",
    "se_b = x̄_b.std(ddof=1)\n",
    "\n",
    "## Calculate the bootstrapped Confidence Interval\n",
    "ci_b = (x̄ - b_crit * se_b, x̄ + b_crit * se_b)\n",
    "ci_b"
   ]
  },
  {
   "cell_type": "markdown",
   "metadata": {},
   "source": [
    "### So, at the value of mean 15 and sigma 9, we can see that the null hypothesis is not true for 0.05 but true for 0.1."
   ]
  },
  {
   "cell_type": "code",
   "execution_count": null,
   "metadata": {},
   "outputs": [],
   "source": []
  }
 ],
 "metadata": {
  "interpreter": {
   "hash": "31f2aee4e71d21fbe5cf8b01ff0e069b9275f58929596ceb00d14d90e3e16cd6"
  },
  "kernelspec": {
   "display_name": "Python 3.8.10 64-bit",
   "language": "python",
   "name": "python3"
  },
  "language_info": {
   "codemirror_mode": {
    "name": "ipython",
    "version": 3
   },
   "file_extension": ".py",
   "mimetype": "text/x-python",
   "name": "python",
   "nbconvert_exporter": "python",
   "pygments_lexer": "ipython3",
   "version": "3.8.10"
  },
  "orig_nbformat": 4
 },
 "nbformat": 4,
 "nbformat_minor": 2
}
